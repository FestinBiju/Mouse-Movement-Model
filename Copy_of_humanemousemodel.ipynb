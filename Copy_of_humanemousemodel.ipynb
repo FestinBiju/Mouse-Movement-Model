{
  "nbformat": 4,
  "nbformat_minor": 0,
  "metadata": {
    "colab": {
      "provenance": [],
      "authorship_tag": "ABX9TyOsBA3ejHd8GIx1QfpVmSWy",
      "include_colab_link": true
    },
    "kernelspec": {
      "name": "python3",
      "display_name": "Python 3"
    },
    "language_info": {
      "name": "python"
    }
  },
  "cells": [
    {
      "cell_type": "markdown",
      "metadata": {
        "id": "view-in-github",
        "colab_type": "text"
      },
      "source": [
        "<a href=\"https://colab.research.google.com/github/FestinBiju/Mouse-Movement-Model/blob/main/Copy_of_humanemousemodel.ipynb\" target=\"_parent\"><img src=\"https://colab.research.google.com/assets/colab-badge.svg\" alt=\"Open In Colab\"/></a>"
      ]
    },
    {
      "cell_type": "markdown",
      "source": [
        "# Importing needed libraries and Modules\n",
        "\n"
      ],
      "metadata": {
        "id": "UAWiuljBzjqc"
      }
    },
    {
      "cell_type": "code",
      "source": [
        "import numpy as np\n",
        "from sklearn.model_selection import train_test_split\n",
        "from sklearn.linear_model import LinearRegression\n",
        "from sklearn.metrics import mean_squared_error\n",
        "import matplotlib.pyplot as plt\n",
        "import time"
      ],
      "metadata": {
        "id": "nN975lWby9Fs"
      },
      "execution_count": null,
      "outputs": []
    },
    {
      "cell_type": "markdown",
      "source": [
        "# Function to generate synthetic mouse movement data"
      ],
      "metadata": {
        "id": "W5BeFEAoy_HY"
      }
    },
    {
      "cell_type": "code",
      "source": [
        "def generate_mouse_data(num_samples):\n",
        "    data = []\n",
        "    for _ in range(num_samples):\n",
        "        # Generate random cursor positions\n",
        "        x = np.random.randint(0, 1920)  # Assuming screen resolution of 1920x1080\n",
        "        y = np.random.randint(0, 1080)\n",
        "        # Simulate random mouse movement\n",
        "        new_x = np.clip(x + np.random.randint(-10, 11), 0, 1920)\n",
        "        new_y = np.clip(y + np.random.randint(-10, 11), 0, 1080)\n",
        "        data.append([x, y, new_x, new_y])  # Store cursor positions before and after movement\n",
        "    return np.array(data)\n"
      ],
      "metadata": {
        "id": "Csk1S7XrzBMV"
      },
      "execution_count": null,
      "outputs": []
    },
    {
      "cell_type": "markdown",
      "source": [
        "# Train and evaluate the linear regression model"
      ],
      "metadata": {
        "id": "hEuMjdTBzEbR"
      }
    },
    {
      "cell_type": "code",
      "source": [
        "def train_and_evaluate_model(num_samples):\n",
        "    # Generate synthetic mouse movement data\n",
        "    data = generate_mouse_data(num_samples)\n",
        "\n",
        "    # Split data into features (X) and target (y)\n",
        "    X = data[:, :2]  # Previous cursor position\n",
        "    y = data[:, 2:]  # New cursor position after movement\n",
        "\n",
        "    # Split data into training and testing sets\n",
        "    X_train, X_test, y_train, y_test = train_test_split(X, y, test_size=0.2, random_state=42)\n",
        "\n",
        "    # Train linear regression model\n",
        "    model = LinearRegression()\n",
        "    model.fit(X_train, y_train)\n",
        "\n",
        "    # Evaluate model\n",
        "    train_predictions = model.predict(X_train)\n",
        "    train_mse = mean_squared_error(y_train, train_predictions)\n",
        "    print(\"Training MSE:\", train_mse)\n",
        "\n",
        "    test_predictions = model.predict(X_test)\n",
        "    test_mse = mean_squared_error(y_test, test_predictions)\n",
        "    print(\"Testing MSE:\", test_mse)\n",
        "\n",
        "    return model"
      ],
      "metadata": {
        "id": "1zAVn8gEzGw8"
      },
      "execution_count": null,
      "outputs": []
    },
    {
      "cell_type": "markdown",
      "source": [
        "# Function to predict the next cursor position based on the current position"
      ],
      "metadata": {
        "id": "vZociwYuzL2j"
      }
    },
    {
      "cell_type": "code",
      "source": [
        "def predict_next_position(current_position, model):\n",
        "    return model.predict(current_position.reshape(1, -1))[0]"
      ],
      "metadata": {
        "id": "r6pM-nHhzLcU"
      },
      "execution_count": null,
      "outputs": []
    },
    {
      "cell_type": "markdown",
      "source": [
        "# Function to simulate mouse movement and visualize"
      ],
      "metadata": {
        "id": "IuyLsGM9zQGW"
      }
    },
    {
      "cell_type": "code",
      "source": [
        "def simulate_mouse_movement(model):\n",
        "    positions = []  # List to store cursor positions\n",
        "    current_position = np.array([0, 0])  # Initial cursor position\n",
        "\n",
        "    # Simulate mouse movement\n",
        "    for _ in range(50):  # Simulate 50 movements\n",
        "        # Predict next cursor position\n",
        "        next_position = predict_next_position(current_position, model)\n",
        "        positions.append(next_position)\n",
        "\n",
        "        # Update current position\n",
        "        current_position = next_position\n",
        "        time.sleep(0.1)  # Adjust speed of movement as needed\n",
        "\n",
        "    return positions"
      ],
      "metadata": {
        "id": "0yWgahbgzTQv"
      },
      "execution_count": null,
      "outputs": []
    },
    {
      "cell_type": "markdown",
      "source": [
        "# Train the model"
      ],
      "metadata": {
        "id": "XY3WrRfWzUqB"
      }
    },
    {
      "cell_type": "code",
      "source": [
        "num_samples = 1000\n",
        "model = train_and_evaluate_model(num_samples)"
      ],
      "metadata": {
        "id": "ZziB9z9FzWda",
        "colab": {
          "base_uri": "https://localhost:8080/"
        },
        "outputId": "b5155baa-9272-4d3a-89d5-711eb929f856"
      },
      "execution_count": null,
      "outputs": [
        {
          "output_type": "stream",
          "name": "stdout",
          "text": [
            "Training MSE: 37.89621929546489\n",
            "Testing MSE: 36.19657278306517\n"
          ]
        }
      ]
    },
    {
      "cell_type": "markdown",
      "source": [
        "# Simulate mouse movement and visualize"
      ],
      "metadata": {
        "id": "oL1tRHwYzYTM"
      }
    },
    {
      "cell_type": "code",
      "source": [
        "positions = simulate_mouse_movement(model)\n"
      ],
      "metadata": {
        "id": "7hJXr-I8zaBr"
      },
      "execution_count": null,
      "outputs": []
    },
    {
      "cell_type": "markdown",
      "source": [
        "# Plot mouse movements"
      ],
      "metadata": {
        "id": "JTxxuw7nzckE"
      }
    },
    {
      "cell_type": "code",
      "source": [
        "print(\"-The Simulated Mouse Movements are shown in the below graph- \\n\\n\")\n",
        "positions = np.array(positions)\n",
        "plt.plot(positions[:, 0], positions[:, 1], marker='o')\n",
        "plt.title('Simulated Mouse Movements')\n",
        "plt.xlabel('X Position')\n",
        "plt.ylabel('Y Position')\n",
        "plt.grid(True)\n",
        "plt.show()"
      ],
      "metadata": {
        "id": "ocicbrGTzd_T",
        "colab": {
          "base_uri": "https://localhost:8080/",
          "height": 527
        },
        "outputId": "51240c0c-3ce1-4164-9c14-9b18f392e6de"
      },
      "execution_count": null,
      "outputs": [
        {
          "output_type": "stream",
          "name": "stdout",
          "text": [
            "-The Simulated Mouse Movements are shown in the below graph- \n",
            "\n",
            "\n"
          ]
        },
        {
          "output_type": "display_data",
          "data": {
            "text/plain": [
              "<Figure size 640x480 with 1 Axes>"
            ],
            "image/png": "[encoded data removed]"
          },
          "metadata": {}
        }
      ]
    }
  ]
}